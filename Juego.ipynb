{
 "cells": [
  {
   "cell_type": "code",
   "execution_count": 8,
   "metadata": {},
   "outputs": [],
   "source": [
    "import sys\n",
    "import os\n",
    "\n",
    "sys.path.append(\"C:/Users/Carlota/OneDrive/Documentos/Bootcamp Data Analysis/juego/\")\n",
    "# Añadir el directorio raíz al PYTHONPATH\n",
    "\n",
    "from localizaciones import object_relations, INIT_GAME_STATE\n",
    "import funciones as fn"
   ]
  },
  {
   "cell_type": "code",
   "execution_count": 9,
   "metadata": {},
   "outputs": [
    {
     "name": "stdout",
     "output_type": "stream",
     "text": [
      "You have woken up on an unknown island. You open your eyes and see that you are in a park. All around you you see many trees and a children's playground. Your only way out is to get to the harbour and catch the ferry...However, you don't know where the harbour is! You will have to look for the maps hidden in the different locations of the island and collect the lost maps to get out. Good luck!\n",
      "You are now in park.\n",
      "You explore the location. This is park. You find: tree, swing, dog, street a\n",
      "You are now in park.\n",
      "You examine tree. You find map for street a.\n",
      "You are now in park.\n"
     ]
    }
   ],
   "source": [
    "game_state = INIT_GAME_STATE.copy()\n",
    "\n",
    "fn.start_game()"
   ]
  },
  {
   "cell_type": "code",
   "execution_count": null,
   "metadata": {},
   "outputs": [],
   "source": []
  }
 ],
 "metadata": {
  "kernelspec": {
   "display_name": "base",
   "language": "python",
   "name": "python3"
  },
  "language_info": {
   "codemirror_mode": {
    "name": "ipython",
    "version": 3
   },
   "file_extension": ".py",
   "mimetype": "text/x-python",
   "name": "python",
   "nbconvert_exporter": "python",
   "pygments_lexer": "ipython3",
   "version": "3.11.7"
  }
 },
 "nbformat": 4,
 "nbformat_minor": 2
}
